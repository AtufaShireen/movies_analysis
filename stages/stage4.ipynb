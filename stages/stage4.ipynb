{
 "cells": [
  {
   "cell_type": "markdown",
   "metadata": {},
   "source": [
    "#### CORPUS FOR plot summary"
   ]
  },
  {
   "cell_type": "code",
   "execution_count": 211,
   "metadata": {},
   "outputs": [],
   "source": [
    "import spacy\n",
    "from spacy.lang.en.stop_words import STOP_WORDS\n",
    "import string\n",
    "spacy_nlp = spacy.load('en_core_web_sm')\n",
    "import re\n",
    "import pymongo\n",
    "import pandas as pd"
   ]
  },
  {
   "cell_type": "markdown",
   "metadata": {},
   "source": [
    "#### preprocessing"
   ]
  },
  {
   "cell_type": "code",
   "execution_count": 214,
   "metadata": {},
   "outputs": [],
   "source": [
    "#create list of punctuations and stopwords\n",
    "punctuations = string.punctuation\n",
    "stop_words = spacy.lang.en.stop_words.STOP_WORDS\n",
    "\n",
    "#function for data cleaning and processing\n",
    "#This can be further enhanced by adding / removing reg-exps as desired.\n",
    "\n",
    "def spacy_tokenizer(sentence):\n",
    "    try:\n",
    "        #remove distracting single quotes\n",
    "        sentence = re.sub('\\'','',sentence)\n",
    "\n",
    "        #remove digits adnd words containing digits\n",
    "        sentence = re.sub('\\w*\\d\\w*','',sentence)\n",
    "\n",
    "        #replace extra spaces with single space\n",
    "        sentence = re.sub(' +',' ',sentence)\n",
    "\n",
    "        #remove unwanted lines starting from special charcters\n",
    "        sentence = re.sub(r'\\n: \\'\\'.*','',sentence)\n",
    "        sentence = re.sub(r'\\n!.*','',sentence)\n",
    "        sentence = re.sub(r'^:\\'\\'.*','',sentence)\n",
    "        \n",
    "        #remove non-breaking new line characters\n",
    "        sentence = re.sub(r'\\n',' ',sentence)\n",
    "        \n",
    "        #remove punctunations\n",
    "        sentence = re.sub(r'[^\\w\\s]',' ',sentence)\n",
    "        \n",
    "        #creating token object\n",
    "        tokens = spacy_nlp(sentence)\n",
    "        \n",
    "        #lower, strip and lemmatize\n",
    "        tokens = [word.lemma_.lower().strip() if word.lemma_ != \"-PRON-\" else word.lower_ for word in tokens]\n",
    "        \n",
    "        #remove stopwords, and exclude words less than 2 characters\n",
    "        tokens = [word for word in tokens if word not in stop_words and word not in punctuations and len(word) > 2]\n",
    "        \n",
    "        #return tokens\n",
    "        return tokens\n",
    "    except Exception as e:\n",
    "        print(e)\n",
    "        return []"
   ]
  },
  {
   "cell_type": "code",
   "execution_count": 221,
   "metadata": {},
   "outputs": [],
   "source": [
    "myclient = pymongo.MongoClient(\"mongodb://localhost:27017/\")\n",
    "mydb = myclient[\"contelligenz\"]\n",
    "mycol = mydb[\"movies\"]\n",
    "df_1 = pd.DataFrame(list(mycol.find()))\n",
    "syn = df_1['synopsis']\n",
    "print ('Cleaning and Tokenizing...')\n",
    "%time movie_plot = syn.map(lambda x: spacy_tokenizer(x))"
   ]
  },
  {
   "cell_type": "markdown",
   "metadata": {},
   "source": [
    "#### dictionary, corpus"
   ]
  },
  {
   "cell_type": "code",
   "execution_count": 217,
   "metadata": {},
   "outputs": [],
   "source": [
    "\n",
    "from gensim import corpora\n",
    "\n",
    "#creating term dictionary\n",
    "\n",
    "dictionary = corpora.Dictionary(movie_plot)\n",
    "\n",
    "#filter out terms which occurs in less than 4 documents and more than 20% of the documents.\n",
    "#NOTE: Since we have smaller dataset, we will keep this commented for now.\n",
    "\n",
    "#dictionary.filter_extremes(no_below=4, no_above=0.2)\n",
    "\n",
    "#list of few which which can be further removed\n",
    "stoplist = set('hello and if this can would should could tell ask stop come go')\n",
    "stop_ids = [dictionary.token2id[stopword] for stopword in stoplist if stopword in dictionary.token2id]\n",
    "dictionary.filter_tokens(stop_ids)"
   ]
  },
  {
   "cell_type": "code",
   "execution_count": 218,
   "metadata": {},
   "outputs": [],
   "source": [
    "\n",
    "corpus = [dictionary.doc2bow(desc) for desc in movie_plot]\n",
    "\n",
    "word_frequencies = [[(dictionary[id], frequency) for id, frequency in line] for line in corpus]\n",
    "\n",
    "# print(word_frequencies)"
   ]
  },
  {
   "cell_type": "markdown",
   "metadata": {},
   "source": [
    "#### model training and saving"
   ]
  },
  {
   "cell_type": "markdown",
   "metadata": {},
   "source": []
  },
  {
   "cell_type": "code",
   "execution_count": 219,
   "metadata": {},
   "outputs": [
    {
     "name": "stdout",
     "output_type": "stream",
     "text": [
      "CPU times: user 20.1 ms, sys: 1.33 ms, total: 21.5 ms\n",
      "Wall time: 20.5 ms\n",
      "CPU times: user 5.3 s, sys: 289 ms, total: 5.59 s\n",
      "Wall time: 1.43 s\n",
      "CPU times: user 782 ms, sys: 1.05 s, total: 1.84 s\n",
      "Wall time: 290 ms\n",
      "CPU times: user 559 ms, sys: 76.1 ms, total: 635 ms\n",
      "Wall time: 657 ms\n"
     ]
    }
   ],
   "source": [
    "import gensim\n",
    "%time movie_tfidf_model = gensim.models.TfidfModel(corpus, id2word=dictionary)\n",
    "%time movie_lsi_model = gensim.models.LsiModel(movie_tfidf_model[corpus], id2word=dictionary, num_topics=300)\n",
    "%time gensim.corpora.MmCorpus.serialize('movie_tfidf_model_mm', movie_tfidf_model[corpus])\n",
    "%time gensim.corpora.MmCorpus.serialize('movie_lsi_model_mm',movie_lsi_model[movie_tfidf_model[corpus]])"
   ]
  },
  {
   "cell_type": "markdown",
   "metadata": {},
   "source": [
    "#### loading model"
   ]
  },
  {
   "cell_type": "code",
   "execution_count": 220,
   "metadata": {},
   "outputs": [
    {
     "name": "stdout",
     "output_type": "stream",
     "text": [
      "MmCorpus(1028 documents, 12291 features, 67309 non-zero entries)\n",
      "MmCorpus(1028 documents, 300 features, 270300 non-zero entries)\n"
     ]
    }
   ],
   "source": [
    "\n",
    "#Load the indexed corpus\n",
    "movie_tfidf_corpus = gensim.corpora.MmCorpus('movie_tfidf_model_mm')\n",
    "movie_lsi_corpus = gensim.corpora.MmCorpus('movie_lsi_model_mm')\n",
    "\n",
    "print(movie_tfidf_corpus)\n",
    "print(movie_lsi_corpus)"
   ]
  },
  {
   "cell_type": "markdown",
   "metadata": {},
   "source": [
    "#### search"
   ]
  },
  {
   "cell_type": "code",
   "execution_count": 223,
   "metadata": {},
   "outputs": [
    {
     "name": "stdout",
     "output_type": "stream",
     "text": [
      "CPU times: user 166 ms, sys: 4.22 ms, total: 171 ms\n",
      "Wall time: 169 ms\n"
     ]
    }
   ],
   "source": [
    "\n",
    "from gensim.similarities import MatrixSimilarity\n",
    "\n",
    "%time movie_index = MatrixSimilarity(movie_lsi_corpus, num_features = movie_lsi_corpus.num_terms)\n",
    "from operator import itemgetter\n",
    "\n",
    "def search_similar_movies(search_term):\n",
    "\n",
    "    query_bow = dictionary.doc2bow(spacy_tokenizer(search_term))\n",
    "    query_tfidf = movie_tfidf_model[query_bow]\n",
    "    query_lsi = movie_lsi_model[query_tfidf]\n",
    "\n",
    "    movie_index.num_best = 5\n",
    "\n",
    "    movies_list = movie_index[query_lsi]\n",
    "\n",
    "    movies_list.sort(key=itemgetter(1), reverse=True)\n",
    "    movie_names = []\n",
    "\n",
    "    for j, movie in enumerate(movies_list):\n",
    "\n",
    "        movie_names.append (\n",
    "            {\n",
    "                'Relevance': round((movie[1] * 100),2),\n",
    "                'Movie Title': df_1['title'][movie[0]],\n",
    "                'Movie Plot': df_1['synopsis'][movie[0]]\n",
    "            }\n",
    "\n",
    "        )\n",
    "        if j == (movie_index.num_best-1):\n",
    "            break\n",
    "\n",
    "    return pd.DataFrame(movie_names, columns=['Relevance','Movie Title','Movie Plot'])\n",
    "\n"
   ]
  },
  {
   "cell_type": "code",
   "execution_count": 227,
   "metadata": {},
   "outputs": [
    {
     "data": {
      "text/html": [
       "<div>\n",
       "<style scoped>\n",
       "    .dataframe tbody tr th:only-of-type {\n",
       "        vertical-align: middle;\n",
       "    }\n",
       "\n",
       "    .dataframe tbody tr th {\n",
       "        vertical-align: top;\n",
       "    }\n",
       "\n",
       "    .dataframe thead th {\n",
       "        text-align: right;\n",
       "    }\n",
       "</style>\n",
       "<table border=\"1\" class=\"dataframe\">\n",
       "  <thead>\n",
       "    <tr style=\"text-align: right;\">\n",
       "      <th></th>\n",
       "      <th>Relevance</th>\n",
       "      <th>Movie Title</th>\n",
       "      <th>Movie Plot</th>\n",
       "    </tr>\n",
       "  </thead>\n",
       "  <tbody>\n",
       "    <tr>\n",
       "      <th>0</th>\n",
       "      <td>97.72</td>\n",
       "      <td>PK</td>\n",
       "      <td>\\nAn alien (Aamir Khan), with a body similar t...</td>\n",
       "    </tr>\n",
       "    <tr>\n",
       "      <th>1</th>\n",
       "      <td>13.80</td>\n",
       "      <td>Koi... Mil Gaya</td>\n",
       "      <td>\\nCanada based Scientist Sanjay Mehra (Rakesh ...</td>\n",
       "    </tr>\n",
       "    <tr>\n",
       "      <th>2</th>\n",
       "      <td>10.52</td>\n",
       "      <td>Roja</td>\n",
       "      <td>\\nIn Srinagar, a Kashmiri terrorist, Wasim Kha...</td>\n",
       "    </tr>\n",
       "    <tr>\n",
       "      <th>3</th>\n",
       "      <td>5.47</td>\n",
       "      <td>Kaho Naa... Pyaar Hai</td>\n",
       "      <td>\\nRohit (Hrithik Roshan) and his younger broth...</td>\n",
       "    </tr>\n",
       "    <tr>\n",
       "      <th>4</th>\n",
       "      <td>4.41</td>\n",
       "      <td>Zinda</td>\n",
       "      <td>\\nThe film is about a rich, successful busines...</td>\n",
       "    </tr>\n",
       "  </tbody>\n",
       "</table>\n",
       "</div>"
      ],
      "text/plain": [
       "   Relevance            Movie Title  \\\n",
       "0      97.72                     PK   \n",
       "1      13.80        Koi... Mil Gaya   \n",
       "2      10.52                   Roja   \n",
       "3       5.47  Kaho Naa... Pyaar Hai   \n",
       "4       4.41                  Zinda   \n",
       "\n",
       "                                          Movie Plot  \n",
       "0  \\nAn alien (Aamir Khan), with a body similar t...  \n",
       "1  \\nCanada based Scientist Sanjay Mehra (Rakesh ...  \n",
       "2  \\nIn Srinagar, a Kashmiri terrorist, Wasim Kha...  \n",
       "3  \\nRohit (Hrithik Roshan) and his younger broth...  \n",
       "4  \\nThe film is about a rich, successful busines...  "
      ]
     },
     "execution_count": 227,
     "metadata": {},
     "output_type": "execute_result"
    }
   ],
   "source": [
    "search_similar_movies('alien')"
   ]
  },
  {
   "cell_type": "code",
   "execution_count": 224,
   "metadata": {},
   "outputs": [
    {
     "data": {
      "text/html": [
       "<div>\n",
       "<style scoped>\n",
       "    .dataframe tbody tr th:only-of-type {\n",
       "        vertical-align: middle;\n",
       "    }\n",
       "\n",
       "    .dataframe tbody tr th {\n",
       "        vertical-align: top;\n",
       "    }\n",
       "\n",
       "    .dataframe thead th {\n",
       "        text-align: right;\n",
       "    }\n",
       "</style>\n",
       "<table border=\"1\" class=\"dataframe\">\n",
       "  <thead>\n",
       "    <tr style=\"text-align: right;\">\n",
       "      <th></th>\n",
       "      <th>Relevance</th>\n",
       "      <th>Movie Title</th>\n",
       "      <th>Movie Plot</th>\n",
       "    </tr>\n",
       "  </thead>\n",
       "  <tbody>\n",
       "    <tr>\n",
       "      <th>0</th>\n",
       "      <td>58.82</td>\n",
       "      <td>Black Friday</td>\n",
       "      <td>\\nOn 9 March 1993 a small-time thug, Gul Moham...</td>\n",
       "    </tr>\n",
       "    <tr>\n",
       "      <th>1</th>\n",
       "      <td>56.97</td>\n",
       "      <td>Talvar</td>\n",
       "      <td>\\nThe film starts off with an introduction of ...</td>\n",
       "    </tr>\n",
       "    <tr>\n",
       "      <th>2</th>\n",
       "      <td>46.77</td>\n",
       "      <td>Gunday</td>\n",
       "      <td>\\nThis movie is a disgrace for Bangladeshi lib...</td>\n",
       "    </tr>\n",
       "    <tr>\n",
       "      <th>3</th>\n",
       "      <td>27.87</td>\n",
       "      <td>Jolly LLB</td>\n",
       "      <td>\\nJolly LLB is an upcoming Bollywood comedy dr...</td>\n",
       "    </tr>\n",
       "    <tr>\n",
       "      <th>4</th>\n",
       "      <td>19.70</td>\n",
       "      <td>Shahid</td>\n",
       "      <td>\\nThe film opens with murder of Shahid Azmi (R...</td>\n",
       "    </tr>\n",
       "  </tbody>\n",
       "</table>\n",
       "</div>"
      ],
      "text/plain": [
       "   Relevance   Movie Title                                         Movie Plot\n",
       "0      58.82  Black Friday  \\nOn 9 March 1993 a small-time thug, Gul Moham...\n",
       "1      56.97        Talvar  \\nThe film starts off with an introduction of ...\n",
       "2      46.77        Gunday  \\nThis movie is a disgrace for Bangladeshi lib...\n",
       "3      27.87     Jolly LLB  \\nJolly LLB is an upcoming Bollywood comedy dr...\n",
       "4      19.70        Shahid  \\nThe film opens with murder of Shahid Azmi (R..."
      ]
     },
     "execution_count": 224,
     "metadata": {},
     "output_type": "execute_result"
    }
   ],
   "source": [
    "search_similar_movies('violence protest march')\n"
   ]
  },
  {
   "cell_type": "code",
   "execution_count": 225,
   "metadata": {},
   "outputs": [
    {
     "data": {
      "text/html": [
       "<div>\n",
       "<style scoped>\n",
       "    .dataframe tbody tr th:only-of-type {\n",
       "        vertical-align: middle;\n",
       "    }\n",
       "\n",
       "    .dataframe tbody tr th {\n",
       "        vertical-align: top;\n",
       "    }\n",
       "\n",
       "    .dataframe thead th {\n",
       "        text-align: right;\n",
       "    }\n",
       "</style>\n",
       "<table border=\"1\" class=\"dataframe\">\n",
       "  <thead>\n",
       "    <tr style=\"text-align: right;\">\n",
       "      <th></th>\n",
       "      <th>Relevance</th>\n",
       "      <th>Movie Title</th>\n",
       "      <th>Movie Plot</th>\n",
       "    </tr>\n",
       "  </thead>\n",
       "  <tbody>\n",
       "    <tr>\n",
       "      <th>0</th>\n",
       "      <td>54.22</td>\n",
       "      <td>Ishaqzaade</td>\n",
       "      <td>\\nRising from the ashes of hooliganism and sma...</td>\n",
       "    </tr>\n",
       "    <tr>\n",
       "      <th>1</th>\n",
       "      <td>43.76</td>\n",
       "      <td>Thoda Pyaar Thoda Magic</td>\n",
       "      <td>\\nRanbeer Talwar (Saif Ali Khan), one of the c...</td>\n",
       "    </tr>\n",
       "    <tr>\n",
       "      <th>2</th>\n",
       "      <td>34.58</td>\n",
       "      <td>Hum Tum</td>\n",
       "      <td>\\nLife isn't always like the movies. Love isn'...</td>\n",
       "    </tr>\n",
       "    <tr>\n",
       "      <th>3</th>\n",
       "      <td>24.23</td>\n",
       "      <td>Rab Ne Bana Di Jodi</td>\n",
       "      <td>\\nHave you ever stopped to think if the most o...</td>\n",
       "    </tr>\n",
       "    <tr>\n",
       "      <th>4</th>\n",
       "      <td>23.32</td>\n",
       "      <td>Aashayein</td>\n",
       "      <td>\\nThe story revolves around Rahul Singh (John ...</td>\n",
       "    </tr>\n",
       "  </tbody>\n",
       "</table>\n",
       "</div>"
      ],
      "text/plain": [
       "   Relevance              Movie Title  \\\n",
       "0      54.22               Ishaqzaade   \n",
       "1      43.76  Thoda Pyaar Thoda Magic   \n",
       "2      34.58                  Hum Tum   \n",
       "3      24.23      Rab Ne Bana Di Jodi   \n",
       "4      23.32                Aashayein   \n",
       "\n",
       "                                          Movie Plot  \n",
       "0  \\nRising from the ashes of hooliganism and sma...  \n",
       "1  \\nRanbeer Talwar (Saif Ali Khan), one of the c...  \n",
       "2  \\nLife isn't always like the movies. Love isn'...  \n",
       "3  \\nHave you ever stopped to think if the most o...  \n",
       "4  \\nThe story revolves around Rahul Singh (John ...  "
      ]
     },
     "execution_count": 225,
     "metadata": {},
     "output_type": "execute_result"
    }
   ],
   "source": [
    "search_similar_movies('love affair hate')"
   ]
  }
 ],
 "metadata": {
  "language_info": {
   "name": "python"
  },
  "orig_nbformat": 4
 },
 "nbformat": 4,
 "nbformat_minor": 2
}
